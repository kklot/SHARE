{
 "cells": [
  {
   "cell_type": "code",
   "execution_count": 1,
   "metadata": {
    "tags": [],
    "vscode": {
     "languageId": "r"
    }
   },
   "outputs": [
    {
     "name": "stderr",
     "output_type": "stream",
     "text": [
      "here() starts at /home/fuchs/fias/knguyen\n",
      "\n",
      "\n",
      "Attaching package: ‘dplyr’\n",
      "\n",
      "\n",
      "The following objects are masked from ‘package:stats’:\n",
      "\n",
      "    filter, lag\n",
      "\n",
      "\n",
      "The following objects are masked from ‘package:base’:\n",
      "\n",
      "    intersect, setdiff, setequal, union\n",
      "\n",
      "\n",
      "\u001b[1m\u001b[22m\u001b[36mℹ\u001b[39m Loading \u001b[34mktools\u001b[39m\n",
      "Re-compiling ktools\n",
      "\n"
     ]
    },
    {
     "name": "stdout",
     "output_type": "stream",
     "text": [
      "\u001b[90m─\u001b[39m\u001b[90m  \u001b[39m\u001b[90minstalling *source* package ‘ktools’ ...\u001b[39m\u001b[36m\u001b[36m (394ms)\u001b[36m\u001b[39m\n",
      "   ** using staged installation\n",
      "\u001b[90m─\u001b[39m\u001b[90m  \u001b[39m\u001b[90mDONE (ktools)\u001b[39m\u001b[36m\u001b[39m\n",
      "\r"
     ]
    },
    {
     "name": "stderr",
     "output_type": "stream",
     "text": [
      "Warning message in system(\"unar -v\", intern = FALSE):\n",
      "“error in running command”\n"
     ]
    }
   ],
   "source": [
    "here::i_am(\"SHARE/code/NHV.ipynb\")\n",
    "# setwd(\"~/SHARE/code/\")\n",
    "library(here)\n",
    "library(dplyr)\n",
    "library(TMB)\n",
    "library(haven)\n",
    "devtools::load_all('~/Code/R/ktools/')\n",
    "options(ggplot2.discrete.fill = okabe, ggplot2.discrete.color = okabe)\n",
    "lilagruen <- c(\"#D6CEE1\", \"#CFE9C7\")\n",
    "\n",
    "to_phi <- function(thetas) {\n",
    "    psi <- phi <- numeric(2)\n",
    "    psi[1] = 2. * exp(thetas[1]) / (1. + exp(thetas[1])) - 1.\n",
    "    psi[2] = 2. * exp(thetas[2]) / (1. + exp(thetas[2])) - 1.\n",
    "    phi[2] = psi[2]\n",
    "    phi[1] = psi[1] * (1. - phi[2])\n",
    "    if (phi[2] == -1.) phi[2] = phi[2] + 1e-11\n",
    "    if (phi[2] == 1. - abs(phi[1])) phi[2] = phi[2] - 1e-11\n",
    "    phi\n",
    "}"
   ]
  },
  {
   "cell_type": "code",
   "execution_count": 2,
   "metadata": {
    "vscode": {
     "languageId": "r"
    }
   },
   "outputs": [],
   "source": [
    "W <- readRDS(\"SHARE/data/Www.rds\") %>%\n",
    "    mutate(country = haven::as_factor(country))"
   ]
  },
  {
   "cell_type": "markdown",
   "metadata": {},
   "source": [
    "Truncated"
   ]
  },
  {
   "cell_type": "code",
   "execution_count": 94,
   "metadata": {
    "vscode": {
     "languageId": "r"
    }
   },
   "outputs": [
    {
     "data": {
      "text/html": [
       "<table class=\"dataframe\">\n",
       "<caption>A tibble: 9 × 2</caption>\n",
       "<thead>\n",
       "\t<tr><th scope=col>wave</th><th scope=col>max(accessed)</th></tr>\n",
       "\t<tr><th scope=col>&lt;chr&gt;</th><th scope=col>&lt;dbl+lbl&gt;</th></tr>\n",
       "</thead>\n",
       "<tbody>\n",
       "\t<tr><td>1</td><td> 98</td></tr>\n",
       "\t<tr><td>2</td><td> 98</td></tr>\n",
       "\t<tr><td>3</td><td> 98</td></tr>\n",
       "\t<tr><td>4</td><td> 98</td></tr>\n",
       "\t<tr><td>5</td><td>365</td></tr>\n",
       "\t<tr><td>6</td><td>366</td></tr>\n",
       "\t<tr><td>7</td><td>365</td></tr>\n",
       "\t<tr><td>8</td><td>  5</td></tr>\n",
       "\t<tr><td>9</td><td>  5</td></tr>\n",
       "</tbody>\n",
       "</table>\n"
      ],
      "text/latex": [
       "A tibble: 9 × 2\n",
       "\\begin{tabular}{ll}\n",
       " wave & max(accessed)\\\\\n",
       " <chr> & <dbl+lbl>\\\\\n",
       "\\hline\n",
       "\t 1 &  98\\\\\n",
       "\t 2 &  98\\\\\n",
       "\t 3 &  98\\\\\n",
       "\t 4 &  98\\\\\n",
       "\t 5 & 365\\\\\n",
       "\t 6 & 366\\\\\n",
       "\t 7 & 365\\\\\n",
       "\t 8 &   5\\\\\n",
       "\t 9 &   5\\\\\n",
       "\\end{tabular}\n"
      ],
      "text/markdown": [
       "\n",
       "A tibble: 9 × 2\n",
       "\n",
       "| wave &lt;chr&gt; | max(accessed) &lt;dbl+lbl&gt; |\n",
       "|---|---|\n",
       "| 1 |  98 |\n",
       "| 2 |  98 |\n",
       "| 3 |  98 |\n",
       "| 4 |  98 |\n",
       "| 5 | 365 |\n",
       "| 6 | 366 |\n",
       "| 7 | 365 |\n",
       "| 8 |   5 |\n",
       "| 9 |   5 |\n",
       "\n"
      ],
      "text/plain": [
       "  wave max(accessed)\n",
       "1 1     98          \n",
       "2 2     98          \n",
       "3 3     98          \n",
       "4 4     98          \n",
       "5 5    365          \n",
       "6 6    366          \n",
       "7 7    365          \n",
       "8 8      5          \n",
       "9 9      5          "
      ]
     },
     "metadata": {},
     "output_type": "display_data"
    }
   ],
   "source": [
    "W %>% \n",
    "    group_by(wave) %>%\n",
    "    summarise(max(accessed))"
   ]
  },
  {
   "cell_type": "markdown",
   "metadata": {},
   "source": [
    "## German data test"
   ]
  },
  {
   "cell_type": "code",
   "execution_count": 99,
   "metadata": {
    "vscode": {
     "languageId": "r"
    }
   },
   "outputs": [],
   "source": [
    "W %>%\n",
    "    filter(\n",
    "        country == \"Germany\", \n",
    "        accessed >= 0, \n",
    "        yrbirth > 1900, \n",
    "        doccd >= 0, \n",
    "        int_year > 2000\n",
    "    ) %>%\n",
    "    mutate(across(where(is.labelled), as.double)) %>%\n",
    "    mutate(aai = int_year - yrbirth) %>%\n",
    "    filter(aai > 49, aai < 102) %>%\n",
    "    dplyr::select(\n",
    "        mergeid, \n",
    "        accessed, \n",
    "        aai, \n",
    "        wave, \n",
    "        gender, \n",
    "        yrbirth, \n",
    "        pm, \n",
    "        doccd\n",
    "    ) %>%\n",
    "    slice_sample(n = 5000) %>%\n",
    "    mutate(\n",
    "        bch = yrbirth - min(yrbirth),\n",
    "        aai = aai - min(aai),\n",
    "        idx = as_numeric(mergeid), \n",
    "        I = case_when(\n",
    "            wave > 7 ~ 1, \n",
    "            wave %in% c(1:4) & accessed == 98 ~ 1, \n",
    "            otherwise ~ 0\n",
    "        ),\n",
    "        accessed = case_when(\n",
    "            I == 1 & accessed == 5 ~ 0,\n",
    "            otherwise ~ accessed\n",
    "        )\n",
    "    ) %>%\n",
    "    allot(deu_mod)"
   ]
  },
  {
   "cell_type": "code",
   "execution_count": 100,
   "metadata": {
    "vscode": {
     "languageId": "r"
    }
   },
   "outputs": [
    {
     "data": {
      "text/html": [
       "<table class=\"dataframe\">\n",
       "<caption>A tibble: 3 × 2</caption>\n",
       "<thead>\n",
       "\t<tr><th scope=col>accessed</th><th scope=col>n</th></tr>\n",
       "\t<tr><th scope=col>&lt;dbl&gt;</th><th scope=col>&lt;int&gt;</th></tr>\n",
       "</thead>\n",
       "<tbody>\n",
       "\t<tr><td> 0</td><td> 51</td></tr>\n",
       "\t<tr><td> 1</td><td>425</td></tr>\n",
       "\t<tr><td>98</td><td> 14</td></tr>\n",
       "</tbody>\n",
       "</table>\n"
      ],
      "text/latex": [
       "A tibble: 3 × 2\n",
       "\\begin{tabular}{ll}\n",
       " accessed & n\\\\\n",
       " <dbl> & <int>\\\\\n",
       "\\hline\n",
       "\t  0 &  51\\\\\n",
       "\t  1 & 425\\\\\n",
       "\t 98 &  14\\\\\n",
       "\\end{tabular}\n"
      ],
      "text/markdown": [
       "\n",
       "A tibble: 3 × 2\n",
       "\n",
       "| accessed &lt;dbl&gt; | n &lt;int&gt; |\n",
       "|---|---|\n",
       "|  0 |  51 |\n",
       "|  1 | 425 |\n",
       "| 98 |  14 |\n",
       "\n"
      ],
      "text/plain": [
       "  accessed n  \n",
       "1  0        51\n",
       "2  1       425\n",
       "3 98        14"
      ]
     },
     "metadata": {},
     "output_type": "display_data"
    }
   ],
   "source": [
    "deu_mod %>% filter(I == 1) %>% count(accessed)"
   ]
  },
  {
   "cell_type": "code",
   "execution_count": 150,
   "metadata": {
    "vscode": {
     "languageId": "r"
    }
   },
   "outputs": [
    {
     "name": "stdout",
     "output_type": "stream",
     "text": [
      "Warning: 4 external pointers will be removed\n",
      "Note: Using Makevars in /home/fuchs/fias/knguyen/.R/Makevars \n"
     ]
    },
    {
     "data": {
      "text/html": [
       "<dl>\n",
       "\t<dt>$trace.atomic</dt>\n",
       "\t\t<dd>0</dd>\n",
       "\t<dt>$trace.optimize</dt>\n",
       "\t\t<dd>0</dd>\n",
       "\t<dt>$nthreads</dt>\n",
       "\t\t<dd>10</dd>\n",
       "\t<dt>$trace.parallel</dt>\n",
       "\t\t<dd>0</dd>\n",
       "\t<dt>$tmbad.atomic_sparse_log_determinant</dt>\n",
       "\t\t<dd>1</dd>\n",
       "\t<dt>$tape.parallel</dt>\n",
       "\t\t<dd>0</dd>\n",
       "\t<dt>$optimize.parallel</dt>\n",
       "\t\t<dd>0</dd>\n",
       "\t<dt>$autopar</dt>\n",
       "\t\t<dd>0</dd>\n",
       "\t<dt>$optimize.instantly</dt>\n",
       "\t\t<dd>1</dd>\n",
       "\t<dt>$debug.getListElement</dt>\n",
       "\t\t<dd>0</dd>\n",
       "\t<dt>$tmbad.sparse_hessian_compress</dt>\n",
       "\t\t<dd>0</dd>\n",
       "</dl>\n"
      ],
      "text/latex": [
       "\\begin{description}\n",
       "\\item[\\$trace.atomic] 0\n",
       "\\item[\\$trace.optimize] 0\n",
       "\\item[\\$nthreads] 10\n",
       "\\item[\\$trace.parallel] 0\n",
       "\\item[\\$tmbad.atomic\\_sparse\\_log\\_determinant] 1\n",
       "\\item[\\$tape.parallel] 0\n",
       "\\item[\\$optimize.parallel] 0\n",
       "\\item[\\$autopar] 0\n",
       "\\item[\\$optimize.instantly] 1\n",
       "\\item[\\$debug.getListElement] 0\n",
       "\\item[\\$tmbad.sparse\\_hessian\\_compress] 0\n",
       "\\end{description}\n"
      ],
      "text/markdown": [
       "$trace.atomic\n",
       ":   0\n",
       "$trace.optimize\n",
       ":   0\n",
       "$nthreads\n",
       ":   10\n",
       "$trace.parallel\n",
       ":   0\n",
       "$tmbad.atomic_sparse_log_determinant\n",
       ":   1\n",
       "$tape.parallel\n",
       ":   0\n",
       "$optimize.parallel\n",
       ":   0\n",
       "$autopar\n",
       ":   0\n",
       "$optimize.instantly\n",
       ":   1\n",
       "$debug.getListElement\n",
       ":   0\n",
       "$tmbad.sparse_hessian_compress\n",
       ":   0\n",
       "\n",
       "\n"
      ],
      "text/plain": [
       "$trace.atomic\n",
       "[1] 0\n",
       "\n",
       "$trace.optimize\n",
       "[1] 0\n",
       "\n",
       "$nthreads\n",
       "[1] 10\n",
       "\n",
       "$trace.parallel\n",
       "[1] 0\n",
       "\n",
       "$tmbad.atomic_sparse_log_determinant\n",
       "[1] 1\n",
       "\n",
       "$tape.parallel\n",
       "[1] 0\n",
       "\n",
       "$optimize.parallel\n",
       "[1] 0\n",
       "\n",
       "$autopar\n",
       "[1] 0\n",
       "\n",
       "$optimize.instantly\n",
       "[1] 1\n",
       "\n",
       "$debug.getListElement\n",
       "[1] 0\n",
       "\n",
       "$tmbad.sparse_hessian_compress\n",
       "[1] 0\n"
      ]
     },
     "metadata": {},
     "output_type": "display_data"
    }
   ],
   "source": [
    "# cd(\"SHARE/code\")\n",
    "tmb_load(\"poigamma\", nthreads = 10)"
   ]
  },
  {
   "cell_type": "code",
   "execution_count": 151,
   "metadata": {
    "vscode": {
     "languageId": "r"
    }
   },
   "outputs": [
    {
     "data": {
      "text/html": [
       "<table class=\"dataframe\">\n",
       "<caption>A matrix: 6 × 6 of type dbl</caption>\n",
       "<thead>\n",
       "\t<tr><th></th><th scope=col>(Intercept)</th><th scope=col>I</th><th scope=col>doccd</th><th scope=col>factor(gender)2</th><th scope=col>aai</th><th scope=col>bch</th></tr>\n",
       "</thead>\n",
       "<tbody>\n",
       "\t<tr><th scope=row>1</th><td>1</td><td>0</td><td>2</td><td>1</td><td>11</td><td>52</td></tr>\n",
       "\t<tr><th scope=row>2</th><td>1</td><td>1</td><td>2</td><td>0</td><td>33</td><td>29</td></tr>\n",
       "\t<tr><th scope=row>3</th><td>1</td><td>0</td><td>3</td><td>1</td><td>28</td><td>28</td></tr>\n",
       "\t<tr><th scope=row>4</th><td>1</td><td>0</td><td>2</td><td>1</td><td> 8</td><td>48</td></tr>\n",
       "\t<tr><th scope=row>5</th><td>1</td><td>0</td><td>4</td><td>1</td><td>33</td><td>29</td></tr>\n",
       "\t<tr><th scope=row>6</th><td>1</td><td>0</td><td>0</td><td>0</td><td> 2</td><td>45</td></tr>\n",
       "</tbody>\n",
       "</table>\n"
      ],
      "text/latex": [
       "A matrix: 6 × 6 of type dbl\n",
       "\\begin{tabular}{r|llllll}\n",
       "  & (Intercept) & I & doccd & factor(gender)2 & aai & bch\\\\\n",
       "\\hline\n",
       "\t1 & 1 & 0 & 2 & 1 & 11 & 52\\\\\n",
       "\t2 & 1 & 1 & 2 & 0 & 33 & 29\\\\\n",
       "\t3 & 1 & 0 & 3 & 1 & 28 & 28\\\\\n",
       "\t4 & 1 & 0 & 2 & 1 &  8 & 48\\\\\n",
       "\t5 & 1 & 0 & 4 & 1 & 33 & 29\\\\\n",
       "\t6 & 1 & 0 & 0 & 0 &  2 & 45\\\\\n",
       "\\end{tabular}\n"
      ],
      "text/markdown": [
       "\n",
       "A matrix: 6 × 6 of type dbl\n",
       "\n",
       "| <!--/--> | (Intercept) | I | doccd | factor(gender)2 | aai | bch |\n",
       "|---|---|---|---|---|---|---|\n",
       "| 1 | 1 | 0 | 2 | 1 | 11 | 52 |\n",
       "| 2 | 1 | 1 | 2 | 0 | 33 | 29 |\n",
       "| 3 | 1 | 0 | 3 | 1 | 28 | 28 |\n",
       "| 4 | 1 | 0 | 2 | 1 |  8 | 48 |\n",
       "| 5 | 1 | 0 | 4 | 1 | 33 | 29 |\n",
       "| 6 | 1 | 0 | 0 | 0 |  2 | 45 |\n",
       "\n"
      ],
      "text/plain": [
       "  (Intercept) I doccd factor(gender)2 aai bch\n",
       "1 1           0 2     1               11  52 \n",
       "2 1           1 2     0               33  29 \n",
       "3 1           0 3     1               28  28 \n",
       "4 1           0 2     1                8  48 \n",
       "5 1           0 4     1               33  29 \n",
       "6 1           0 0     0                2  45 "
      ]
     },
     "metadata": {},
     "output_type": "display_data"
    }
   ],
   "source": [
    "X <- model.matrix(~ I + doccd + factor(gender) + aai + bch, deu_mod)\n",
    "head(X)"
   ]
  },
  {
   "cell_type": "markdown",
   "metadata": {},
   "source": [
    "Init for AR2"
   ]
  },
  {
   "cell_type": "code",
   "execution_count": 152,
   "metadata": {
    "vscode": {
     "languageId": "r"
    }
   },
   "outputs": [],
   "source": [
    "init <- list(\n",
    "    betas = rep(0, ncol(X)),\n",
    "    log_alpha = log(2),\n",
    "    gamma = rep(1, nrow(deu_mod)),\n",
    "    log_alpha_prior = log(c(shape = 1e-2, scale = 1e2))\n",
    ")"
   ]
  },
  {
   "cell_type": "code",
   "execution_count": 153,
   "metadata": {
    "vscode": {
     "languageId": "r"
    }
   },
   "outputs": [],
   "source": [
    "data <- list(\n",
    "    y = deu_mod$accessed,\n",
    "    X = X,\n",
    "    E = deu_mod$pm, \n",
    "    I = deu_mod$I,\n",
    "    betas_prior = c(0, 1)\n",
    ")"
   ]
  },
  {
   "cell_type": "code",
   "execution_count": 154,
   "metadata": {
    "vscode": {
     "languageId": "r"
    }
   },
   "outputs": [
    {
     "name": "stderr",
     "output_type": "stream",
     "text": [
      "Warning message in nlminb(obj$par, obj$fn, obj$gr, control = list(trace = 0)):\n",
      "“NA/NaN function evaluation”\n",
      "Warning message in nlminb(obj$par, obj$fn, obj$gr, control = list(trace = 0)):\n",
      "“NA/NaN function evaluation”\n",
      "Warning message in nlminb(obj$par, obj$fn, obj$gr, control = list(trace = 0)):\n",
      "“NA/NaN function evaluation”\n"
     ]
    }
   ],
   "source": [
    "obj <- TMB::MakeADFun(\n",
    "    data, \n",
    "    init,\n",
    "    random = 'gamma',\n",
    "    DLL = \"poigamma\", \n",
    "    silent = T\n",
    ")\n",
    "fit <- nlminb(obj$par, obj$fn, obj$gr, control = list(trace = 0))"
   ]
  },
  {
   "cell_type": "code",
   "execution_count": 155,
   "metadata": {
    "vscode": {
     "languageId": "r"
    }
   },
   "outputs": [],
   "source": [
    "rp <- sdreport(obj, ignore.parm.uncertainty\t= F)"
   ]
  },
  {
   "cell_type": "code",
   "execution_count": 156,
   "metadata": {
    "vscode": {
     "languageId": "r"
    }
   },
   "outputs": [
    {
     "data": {
      "text/html": [
       "<table class=\"dataframe\">\n",
       "<caption>A matrix: 9 × 2 of type dbl</caption>\n",
       "<thead>\n",
       "\t<tr><th></th><th scope=col>Estimate</th><th scope=col>Std. Error</th></tr>\n",
       "</thead>\n",
       "<tbody>\n",
       "\t<tr><th scope=row>betas</th><td>-2.58784937</td><td>0.154032163</td></tr>\n",
       "\t<tr><th scope=row>betas</th><td>-0.64344109</td><td>0.156540975</td></tr>\n",
       "\t<tr><th scope=row>betas</th><td> 0.26207162</td><td>0.008613899</td></tr>\n",
       "\t<tr><th scope=row>betas</th><td> 0.01280005</td><td>0.023819163</td></tr>\n",
       "\t<tr><th scope=row>betas</th><td> 0.03447873</td><td>0.003050223</td></tr>\n",
       "\t<tr><th scope=row>betas</th><td> 0.02916116</td><td>0.002875815</td></tr>\n",
       "\t<tr><th scope=row>log_alpha_prior</th><td>-4.50787669</td><td>5.619506553</td></tr>\n",
       "\t<tr><th scope=row>log_alpha_prior</th><td> 4.60573280</td><td>8.330212928</td></tr>\n",
       "\t<tr><th scope=row>log_alpha</th><td> 0.56356039</td><td>0.022706506</td></tr>\n",
       "</tbody>\n",
       "</table>\n"
      ],
      "text/latex": [
       "A matrix: 9 × 2 of type dbl\n",
       "\\begin{tabular}{r|ll}\n",
       "  & Estimate & Std. Error\\\\\n",
       "\\hline\n",
       "\tbetas & -2.58784937 & 0.154032163\\\\\n",
       "\tbetas & -0.64344109 & 0.156540975\\\\\n",
       "\tbetas &  0.26207162 & 0.008613899\\\\\n",
       "\tbetas &  0.01280005 & 0.023819163\\\\\n",
       "\tbetas &  0.03447873 & 0.003050223\\\\\n",
       "\tbetas &  0.02916116 & 0.002875815\\\\\n",
       "\tlog\\_alpha\\_prior & -4.50787669 & 5.619506553\\\\\n",
       "\tlog\\_alpha\\_prior &  4.60573280 & 8.330212928\\\\\n",
       "\tlog\\_alpha &  0.56356039 & 0.022706506\\\\\n",
       "\\end{tabular}\n"
      ],
      "text/markdown": [
       "\n",
       "A matrix: 9 × 2 of type dbl\n",
       "\n",
       "| <!--/--> | Estimate | Std. Error |\n",
       "|---|---|---|\n",
       "| betas | -2.58784937 | 0.154032163 |\n",
       "| betas | -0.64344109 | 0.156540975 |\n",
       "| betas |  0.26207162 | 0.008613899 |\n",
       "| betas |  0.01280005 | 0.023819163 |\n",
       "| betas |  0.03447873 | 0.003050223 |\n",
       "| betas |  0.02916116 | 0.002875815 |\n",
       "| log_alpha_prior | -4.50787669 | 5.619506553 |\n",
       "| log_alpha_prior |  4.60573280 | 8.330212928 |\n",
       "| log_alpha |  0.56356039 | 0.022706506 |\n",
       "\n"
      ],
      "text/plain": [
       "                Estimate    Std. Error \n",
       "betas           -2.58784937 0.154032163\n",
       "betas           -0.64344109 0.156540975\n",
       "betas            0.26207162 0.008613899\n",
       "betas            0.01280005 0.023819163\n",
       "betas            0.03447873 0.003050223\n",
       "betas            0.02916116 0.002875815\n",
       "log_alpha_prior -4.50787669 5.619506553\n",
       "log_alpha_prior  4.60573280 8.330212928\n",
       "log_alpha        0.56356039 0.022706506"
      ]
     },
     "metadata": {},
     "output_type": "display_data"
    }
   ],
   "source": [
    "(srp <- summary(rp, 'fixed'))"
   ]
  },
  {
   "cell_type": "code",
   "execution_count": 159,
   "metadata": {
    "vscode": {
     "languageId": "r"
    }
   },
   "outputs": [
    {
     "name": "stdout",
     "output_type": "stream",
     "text": [
      "    (Intercept)               I           doccd factor(gender)2             aai \n",
      "        0.07518         0.52548         1.29962         1.01288         1.03508 \n",
      "            bch \n",
      "        1.02959 \n"
     ]
    }
   ],
   "source": [
    "srp[1:6, 1] %>%\n",
    "    exp() %>%\n",
    "    `names<-`(colnames(X)) %>%\n",
    "    print(digits = 4)"
   ]
  },
  {
   "cell_type": "code",
   "execution_count": 160,
   "metadata": {
    "vscode": {
     "languageId": "r"
    }
   },
   "outputs": [
    {
     "data": {
      "image/png": "[encoded data removed]",
      "text/plain": [
       "Plot with title “Histogram of .”"
      ]
     },
     "metadata": {
      "image/png": {
       "height": 420,
       "width": 420
      }
     },
     "output_type": "display_data"
    }
   ],
   "source": [
    "rp_re <- summary(rp, 'random')\n",
    "rp_re %>%\n",
    "    as_tibble(rownames = \"v\") %>%\n",
    "    filter(v == \"gamma\") %>%\n",
    "    pull(Estimate) %>%\n",
    "    hist()"
   ]
  },
  {
   "cell_type": "code",
   "execution_count": 161,
   "metadata": {
    "vscode": {
     "languageId": "r"
    }
   },
   "outputs": [
    {
     "name": "stdout",
     "output_type": "stream",
     "text": [
      "List of 6\n",
      " $ y_new : num [1:5000] 11 0 4 8 8 2 2 7 65 1 ...\n",
      " $ alpha : num 1.76\n",
      " $ lambda: num [1:5000] 18.263 0.441 5.888 5.57 10.435 ...\n",
      " $ ll    : num [1:5000] -3.645 -0.441 -1.83 -1.845 -2.28 ...\n",
      " $ betas : num [1:6] -2.5878 -0.6434 0.2621 0.0128 0.0345 ...\n",
      " $ gamma : num [1:5000] 4.266 0.179 0.494 0.676 1.322 ...\n"
     ]
    },
    {
     "name": "stderr",
     "output_type": "stream",
     "text": [
      "Warning message in cbind(y_new = c(11, 0, 4, 8, 8, 2, 2, 7, 65, 1, 1, 5, 38, 7, :\n",
      "“number of rows of result is not a multiple of vector length (arg 5)”\n"
     ]
    },
    {
     "data": {
      "image/png": "[encoded data removed]",
      "text/plain": [
       "plot without title"
      ]
     },
     "metadata": {
      "image/png": {
       "height": 420,
       "width": 420
      }
     },
     "output_type": "display_data"
    }
   ],
   "source": [
    "sm <- obj$simulate()\n",
    "dplyr::glimpse(sm)\n",
    "\n",
    "sizing(7, 7)\n",
    "do.call(\"cbind\", sm) %>%\n",
    "    cbind(deu_mod) %>%\n",
    "    ggplot(aes(accessed, y_new)) +\n",
    "    geom_point() +\n",
    "    geom_abline(aes(intercept = 0, slope = 1))"
   ]
  },
  {
   "cell_type": "code",
   "execution_count": 145,
   "metadata": {
    "vscode": {
     "languageId": "r"
    }
   },
   "outputs": [
    {
     "name": "stderr",
     "output_type": "stream",
     "text": [
      "No taping done.\n",
      "\n"
     ]
    },
    {
     "name": "stdout",
     "output_type": "stream",
     "text": [
      "[1] \"Calculating joint precision\"\n",
      "iter: 1  value: 12779.37 mgc: 0.6593532 ustep: 4.371736e-06 \n",
      "iter: 2  value: 12779.37 mgc: 0.6593415 ustep: 1.069654e-06 \n",
      "iter: 3  value: 12779.37 mgc: 0.6593386 ustep: 3.544355e-05 \n",
      "iter: 4  value: 12779.37 mgc: 0.6592432 ustep: 2.369655e-05 \n",
      "iter: 5  value: 12779.37 mgc: 0.00054818 ustep: 0.002486555 \n",
      "iter: 6  value: 12779.37 mgc: 0.659185 ustep: 3.903533e-07 \n",
      "iter: 7  value: 12779.37 mgc: 0.6591839 ustep: 2.829696e-06 \n",
      "iter: 8  value: 12779.37 mgc: 0.6591763 ustep: 6.961557e-06 \n",
      "iter: 9  value: 12779.37 mgc: 0.0005700648 ustep: 0.0001712898 \n",
      "iter: 10  value: 12779.37 mgc: 0.0005696666 ustep: 0.01318646 \n",
      "iter: 11  value: 12779.37 mgc: 0.659187 ustep: 9.297945e-07 \n",
      "Not improving much - will try early exit...PD hess?: TRUE \n",
      "mgc: 0.0005431904 \n",
      "outer mgc:  916.5886 \n",
      "iter: 1  value: 12775.68 mgc: 0.08152252 ustep: 1 \n",
      "iter: 2  value: 12775.68 mgc: 0.6603877 ustep: 1.749033e-05 \n",
      "iter: 3  value: 12775.68 mgc: 7.971953e-05 ustep: 0.0002680392 \n",
      "iter: 4  value: 12775.68 mgc: 0.6603406 ustep: 8.10013e-06 \n",
      "iter: 5  value: 12775.68 mgc: 0.6603188 ustep: 2.303154e-05 \n",
      "iter: 6  value: 12775.68 mgc: 0.0001309701 ustep: 0.002452081 \n",
      "iter: 7  value: 12775.68 mgc: 0.6602581 ustep: 4.964289e-05 \n",
      "iter: 8  value: 12775.68 mgc: 0.0002633653 ustep: 0.00357858 \n",
      "iter: 9  value: 12775.68 mgc: 0.0002595802 ustep: 0.001927957 \n",
      "iter: 10  value: 12775.68 mgc: 0.6601302 ustep: 5.486204e-06 \n",
      "iter: 11  value: 12775.68 mgc: 0.6601154 ustep: 9.543163e-06 \n",
      "Not improving much - will try early exit...PD hess?: TRUE \n",
      "mgc: 0.6600897 \n",
      "outer mgc:  812.0326 \n",
      "iter: 1  value: 12783.07 mgc: 0.6586938 ustep: 0.0692153 \n",
      "iter: 2  value: 12783.07 mgc: 0.1779973 ustep: 0.0374424 \n",
      "iter: 3  value: 12783.07 mgc: 0.5082342 ustep: 2.047726e-07 \n",
      "iter: 4  value: 12783.07 mgc: 0.5082337 ustep: 2.695399e-07 \n",
      "iter: 5  value: 12783.07 mgc: 0.5082331 ustep: 3.02066e-07 \n",
      "iter: 6  value: 12783.07 mgc: 0.5082323 ustep: 4.948865e-09 \n",
      "mgc: 0.5082323 \n",
      "outer mgc:  1035.867 \n",
      "iter: 1  value: 12779.31 mgc: 0.009555108 ustep: 1 \n",
      "iter: 2  value: 12779.31 mgc: 0.6603877 ustep: 1.749033e-05 \n",
      "iter: 3  value: 12779.31 mgc: 4.718358e-05 ustep: 0.0002680392 \n",
      "iter: 4  value: 12779.31 mgc: 0.6603406 ustep: 8.10013e-06 \n",
      "iter: 5  value: 12779.31 mgc: 0.6603188 ustep: 2.303154e-05 \n",
      "iter: 6  value: 12779.31 mgc: 0.0001309701 ustep: 0.002452081 \n",
      "iter: 7  value: 12779.31 mgc: 0.6602581 ustep: 4.964289e-05 \n",
      "iter: 8  value: 12779.31 mgc: 0.0002633653 ustep: 0.00357858 \n",
      "iter: 9  value: 12779.31 mgc: 0.0002595802 ustep: 0.001927957 \n",
      "iter: 10  value: 12779.31 mgc: 0.6601302 ustep: 5.486204e-06 \n",
      "iter: 11  value: 12779.31 mgc: 0.6601154 ustep: 9.543163e-06 \n",
      "Not improving much - will try early exit...PD hess?: TRUE \n",
      "mgc: 0.6600897 \n",
      "outer mgc:  915.8351 \n",
      "iter: 1  value: 12779.43 mgc: 0.6586938 ustep: 0.001119436 \n",
      "iter: 2  value: 12779.43 mgc: 0.008026783 ustep: 0.008494622 \n",
      "iter: 3  value: 12779.43 mgc: 0.6558011 ustep: 2.949473e-06 \n",
      "iter: 4  value: 12779.43 mgc: 0.6557932 ustep: 7.09931e-06 \n",
      "iter: 5  value: 12779.43 mgc: 0.6557742 ustep: 1.687098e-07 \n",
      "iter: 6  value: 12779.43 mgc: 0.6557737 ustep: 9.968212e-07 \n",
      "iter: 7  value: 12779.43 mgc: 0.003374704 ustep: 4.289187e-06 \n",
      "iter: 8  value: 12779.43 mgc: 0.6557711 ustep: 4.240679e-06 \n",
      "iter: 9  value: 12779.43 mgc: 0.6557597 ustep: 2.108649e-06 \n",
      "iter: 10  value: 12779.43 mgc: 0.003370503 ustep: 6.062235e-06 \n",
      "iter: 11  value: 12779.43 mgc: 0.6557541 ustep: 2.502572e-06 \n",
      "Not improving much - will try early exit...PD hess?: TRUE \n",
      "mgc: 0.6557474 \n",
      "outer mgc:  917.6624 \n",
      "iter: 1  value: 12772.4 mgc: 0.8189078 ustep: 0.4367355 \n",
      "iter: 2  value: 12772.4 mgc: 0.9586789 ustep: 0.0002636562 \n",
      "iter: 3  value: 12772.4 mgc: 1.61462 ustep: 0.002056111 \n",
      "iter: 4  value: 12772.37 mgc: 0.9071184 ustep: 0.02298174 \n",
      "iter: 5  value: 12772.37 mgc: 0.6872673 ustep: 0.001283421 \n",
      "iter: 6  value: 12772.37 mgc: 1.335962 ustep: 0.002282868 \n",
      "iter: 7  value: 12772.35 mgc: 0.6392443 ustep: 0.02422844 \n",
      "iter: 8  value: 12772.35 mgc: 0.4940596 ustep: 0.005273791 \n",
      "iter: 9  value: 12772.35 mgc: 0.466525 ustep: 4.601241e-06 \n",
      "iter: 10  value: 12772.35 mgc: 0.4665014 ustep: 0.0002807962 \n",
      "iter: 11  value: 12772.35 mgc: 0.4650667 ustep: 0.001061446 \n",
      "iter: 12  value: 12772.34 mgc: 0.4597126 ustep: 0.03267658 \n",
      "iter: 13  value: 12772.33 mgc: 0.9980958 ustep: 0.006211398 \n",
      "iter: 14  value: 12772.32 mgc: 0.2811635 ustep: 0.07890454 \n",
      "iter: 15  value: 12772.32 mgc: 0.1549521 ustep: 0.01024973 \n",
      "iter: 16  value: 12772.31 mgc: 0.1420534 ustep: 0.1013308 \n",
      "iter: 17  value: 12772.3 mgc: 0.0703172 ustep: 0.3183932 \n",
      "iter: 18  value: 12772.3 mgc: 0.01091424 ustep: 0.0008101687 \n",
      "iter: 19  value: 12772.3 mgc: 0.01084572 ustep: 0.01438232 \n",
      "iter: 20  value: 12772.3 mgc: 0.009727064 ustep: 0.0002494489 \n",
      "iter: 21  value: 12772.3 mgc: 0.00970822 ustep: 0.007977213 \n",
      "iter: 22  value: 12772.3 mgc: 0.009133112 ustep: 0.00146146 \n",
      "iter: 23  value: 12772.3 mgc: 0.009030237 ustep: 0.0001525182 \n",
      "iter: 24  value: 12772.3 mgc: 0.00901954 ustep: 0.0001955934 \n",
      "iter: 25  value: 12772.3 mgc: 0.009005843 ustep: 2.767818e-05 \n",
      "iter: 26  value: 12772.3 mgc: 0.009003905 ustep: 0.0006714351 \n",
      "Not improving much - will try early exit...PD hess?: TRUE \n",
      "mgc: 0.008957098 \n",
      "outer mgc:  693.8856 \n",
      "iter: 1  value: 12786.65 mgc: 0.8107609 ustep: 0.4367355 \n",
      "iter: 2  value: 12786.65 mgc: 0.9586789 ustep: 0.0002636562 \n",
      "iter: 3  value: 12786.64 mgc: 1.61462 ustep: 0.002056111 \n",
      "iter: 4  value: 12786.62 mgc: 0.9071184 ustep: 0.02298174 \n",
      "iter: 5  value: 12786.62 mgc: 0.6872673 ustep: 0.001283421 \n",
      "iter: 6  value: 12786.61 mgc: 1.335962 ustep: 0.002282868 \n",
      "iter: 7  value: 12786.6 mgc: 0.6392443 ustep: 0.02422844 \n",
      "iter: 8  value: 12786.59 mgc: 0.4940596 ustep: 0.005273791 \n",
      "iter: 9  value: 12786.59 mgc: 0.466525 ustep: 4.601241e-06 \n",
      "iter: 10  value: 12786.59 mgc: 0.4665014 ustep: 0.0002807962 \n",
      "iter: 11  value: 12786.59 mgc: 0.4650667 ustep: 0.001061446 \n",
      "iter: 12  value: 12786.58 mgc: 0.4597126 ustep: 0.03267658 \n",
      "iter: 13  value: 12786.57 mgc: 0.9980958 ustep: 0.006211398 \n",
      "iter: 14  value: 12786.56 mgc: 0.2811635 ustep: 0.07890454 \n",
      "iter: 15  value: 12786.56 mgc: 0.1549521 ustep: 0.01024973 \n",
      "iter: 16  value: 12786.55 mgc: 0.1420534 ustep: 0.1013308 \n",
      "iter: 17  value: 12786.55 mgc: 0.0703172 ustep: 0.3183932 \n",
      "iter: 18  value: 12786.55 mgc: 0.01091424 ustep: 0.0008101687 \n",
      "iter: 19  value: 12786.55 mgc: 0.01084572 ustep: 0.01438232 \n",
      "iter: 20  value: 12786.55 mgc: 0.009727064 ustep: 0.0002494489 \n",
      "iter: 21  value: 12786.55 mgc: 0.00970822 ustep: 0.007977213 \n",
      "iter: 22  value: 12786.55 mgc: 0.009133112 ustep: 0.00146146 \n",
      "iter: 23  value: 12786.55 mgc: 0.009030237 ustep: 0.0001525182 \n",
      "iter: 24  value: 12786.55 mgc: 0.00901954 ustep: 0.0001955934 \n",
      "iter: 25  value: 12786.55 mgc: 0.009005843 ustep: 2.767818e-05 \n",
      "iter: 26  value: 12786.55 mgc: 0.009003905 ustep: 0.0006714351 \n",
      "Not improving much - will try early exit...PD hess?: TRUE \n",
      "mgc: 0.008957098 \n",
      "outer mgc:  1153.3 \n",
      "iter: 1  value: 12777.31 mgc: 0.6593532 ustep: 0.008923143 \n",
      "iter: 2  value: 12777.31 mgc: 0.03331705 ustep: 0.01233532 \n",
      "iter: 3  value: 12777.31 mgc: 0.02388634 ustep: 0.05720765 \n",
      "iter: 4  value: 12777.31 mgc: 0.01888152 ustep: 0.008504866 \n",
      "iter: 5  value: 12777.31 mgc: 0.6414974 ustep: 0.0001889814 \n",
      "iter: 6  value: 12777.31 mgc: 0.0187349 ustep: 0.0008706731 \n",
      "iter: 7  value: 12777.31 mgc: 0.6410605 ustep: 4.578121e-07 \n",
      "iter: 8  value: 12777.31 mgc: 0.01866836 ustep: 3.789052e-07 \n",
      "iter: 9  value: 12777.31 mgc: 0.6410593 ustep: 2.793648e-06 \n",
      "iter: 10  value: 12777.31 mgc: 0.6410519 ustep: 0.000221512 \n",
      "iter: 11  value: 12777.31 mgc: 0.6404605 ustep: 0.003765922 \n",
      "iter: 12  value: 12777.31 mgc: 0.6303882 ustep: 0.0009900188 \n",
      "Not improving much - will try early exit...PD hess?: TRUE \n",
      "mgc: 0.6277596 \n",
      "outer mgc:  856.0431 \n",
      "iter: 1  value: 12781.45 mgc: 0.6593532 ustep: 0.008923143 \n",
      "iter: 2  value: 12781.45 mgc: 0.03329415 ustep: 0.01233532 \n",
      "iter: 3  value: 12781.44 mgc: 0.02386754 ustep: 0.05720765 \n",
      "iter: 4  value: 12781.44 mgc: 0.01888152 ustep: 0.008504866 \n",
      "iter: 5  value: 12781.44 mgc: 0.6414974 ustep: 0.0001889814 \n",
      "iter: 6  value: 12781.44 mgc: 0.0187349 ustep: 0.0008706731 \n",
      "iter: 7  value: 12781.44 mgc: 0.6410605 ustep: 4.578121e-07 \n",
      "iter: 8  value: 12781.44 mgc: 0.01866836 ustep: 3.789052e-07 \n",
      "iter: 9  value: 12781.44 mgc: 0.6410593 ustep: 2.793648e-06 \n",
      "iter: 10  value: 12781.44 mgc: 0.6410519 ustep: 0.000221512 \n",
      "iter: 11  value: 12781.44 mgc: 0.6404605 ustep: 0.003765922 \n",
      "iter: 12  value: 12781.44 mgc: 0.6303882 ustep: 0.0009900188 \n",
      "Not improving much - will try early exit...PD hess?: TRUE \n",
      "mgc: 0.6277596 \n",
      "outer mgc:  977.6446 \n",
      "iter: 1  value: 12718.89 mgc: 2.627693 ustep: 1 \n",
      "iter: 2  value: 12718.88 mgc: 0.09278535 ustep: 1 \n",
      "iter: 3  value: 12718.48 mgc: 1.000537 ustep: 0.01776843 \n",
      "iter: 4  value: 12718.48 mgc: 0.06308055 ustep: 0.133385 \n",
      "iter: 5  value: 12718.48 mgc: 0.7092794 ustep: 0.003542511 \n",
      "iter: 6  value: 12718.48 mgc: 0.6995331 ustep: 0.003832579 \n",
      "iter: 7  value: 12718.48 mgc: 0.6890185 ustep: 0.007966559 \n",
      "iter: 8  value: 12718.48 mgc: 0.6672784 ustep: 4.564819e-05 \n",
      "iter: 9  value: 12718.48 mgc: 0.6671542 ustep: 0.0001074184 \n",
      "iter: 10  value: 12718.48 mgc: 0.0001627219 ustep: 0.001313538 \n",
      "iter: 11  value: 12718.48 mgc: 0.6668629 ustep: 7.222881e-05 \n",
      "iter: 12  value: 12718.48 mgc: 0.6666664 ustep: 8.424226e-06 \n",
      "Not improving much - will try early exit...PD hess?: TRUE \n",
      "mgc: 0.6666435 \n",
      "outer mgc:  2840.874 \n",
      "iter: 1  value: 12842.96 mgc: 2.544939 ustep: 1 \n",
      "iter: 2  value: 12842.85 mgc: 1.552428 ustep: 1 \n",
      "iter: 3  value: 12842.43 mgc: 0.3910263 ustep: 1 \n",
      "iter: 4  value: 12842.43 mgc: 0.7121238 ustep: 0.01776843 \n",
      "iter: 5  value: 12842.43 mgc: 0.663165 ustep: 0.001117026 \n",
      "iter: 6  value: 12842.43 mgc: 0.6601785 ustep: 3.165668e-11 \n",
      "mgc: 0.6601785 \n",
      "outer mgc:  4271.636 \n",
      "iter: 1  value: 12639.48 mgc: 2.902366 ustep: 1 \n",
      "iter: 2  value: 12639.45 mgc: 0.1442212 ustep: 1 \n",
      "iter: 3  value: 12639.45 mgc: 0.0004260901 ustep: 1 \n",
      "iter: 4  value: 12639.45 mgc: 1.032859e-07 ustep: 1 \n",
      "iter: 5  value: 12639.45 mgc: 1.101708e-07 ustep: 1 \n",
      "iter: 6  mgc: 1.287859e-14 \n",
      "outer mgc:  9633.463 \n",
      "iter: 1  value: 12929.1 mgc: 2.802542 ustep: 1 \n",
      "iter: 2  value: 12929.09 mgc: 0.6363998 ustep: 0.03522464 \n",
      "iter: 3  value: 12929.09 mgc: 0.08894018 ustep: 0.0008113708 \n",
      "iter: 4  value: 12929.09 mgc: 0.5477836 ustep: 0.02858172 \n",
      "iter: 5  value: 12929.09 mgc: 0.4799569 ustep: 0.02288924 \n",
      "iter: 6  value: 12929.09 mgc: 0.4289397 ustep: 3.904769e-08 \n",
      "iter: 7  value: 12929.09 mgc: 0.2074603 ustep: 1.451671e-07 \n",
      "iter: 8  value: 12929.09 mgc: 0.4289398 ustep: 9.387745e-07 \n",
      "iter: 9  value: 12929.09 mgc: 0.4289377 ustep: 2.607655e-07 \n",
      "iter: 10  value: 12929.09 mgc: 0.4289371 ustep: 5.958758e-07 \n",
      "iter: 11  value: 12929.09 mgc: 0.4289358 ustep: 4.150406e-10 \n",
      "mgc: 0.4289358 \n",
      "outer mgc:  11350.71 \n",
      "iter: 1  value: 12779.37 mgc: 0.6593532 ustep: 4.371736e-06 \n",
      "iter: 2  value: 12779.37 mgc: 0.6593415 ustep: 1.069654e-06 \n",
      "iter: 3  value: 12779.37 mgc: 0.6593386 ustep: 3.544355e-05 \n",
      "iter: 4  value: 12779.37 mgc: 0.6592432 ustep: 2.369655e-05 \n",
      "iter: 5  value: 12779.37 mgc: 0.00054818 ustep: 0.002486555 \n",
      "iter: 6  value: 12779.37 mgc: 0.659185 ustep: 3.903533e-07 \n",
      "iter: 7  value: 12779.37 mgc: 0.6591839 ustep: 2.829696e-06 \n",
      "iter: 8  value: 12779.37 mgc: 0.6591763 ustep: 6.961557e-06 \n",
      "iter: 9  value: 12779.37 mgc: 0.0005700648 ustep: 0.0001712898 \n",
      "iter: 10  value: 12779.37 mgc: 0.0005696666 ustep: 0.01318646 \n",
      "iter: 11  value: 12779.37 mgc: 0.659187 ustep: 9.297945e-07 \n",
      "Not improving much - will try early exit...PD hess?: TRUE \n",
      "mgc: 0.0005431904 \n",
      "outer mgc:  916.5886 \n",
      "iter: 1  value: 12779.37 mgc: 0.6593532 ustep: 4.371736e-06 \n",
      "iter: 2  value: 12779.37 mgc: 0.6593415 ustep: 1.069654e-06 \n",
      "iter: 3  value: 12779.37 mgc: 0.6593386 ustep: 3.544355e-05 \n",
      "iter: 4  value: 12779.37 mgc: 0.6592432 ustep: 2.369655e-05 \n",
      "iter: 5  value: 12779.37 mgc: 0.00054818 ustep: 0.002486555 \n",
      "iter: 6  value: 12779.37 mgc: 0.659185 ustep: 3.903533e-07 \n",
      "iter: 7  value: 12779.37 mgc: 0.6591839 ustep: 2.829696e-06 \n",
      "iter: 8  value: 12779.37 mgc: 0.6591763 ustep: 6.961557e-06 \n",
      "iter: 9  value: 12779.37 mgc: 0.0005700648 ustep: 0.0001712898 \n",
      "iter: 10  value: 12779.37 mgc: 0.0005696666 ustep: 0.01318646 \n",
      "iter: 11  value: 12779.37 mgc: 0.659187 ustep: 9.297945e-07 \n",
      "Not improving much - will try early exit...PD hess?: TRUE \n",
      "mgc: 0.0005431904 \n",
      "outer mgc:  916.5886 \n",
      "iter: 1  value: 12779.37 mgc: 0.6593532 ustep: 4.371736e-06 \n",
      "iter: 2  value: 12779.37 mgc: 0.6593415 ustep: 1.069654e-06 \n",
      "iter: 3  value: 12779.37 mgc: 0.6593386 ustep: 3.544355e-05 \n",
      "iter: 4  value: 12779.37 mgc: 0.6592432 ustep: 2.369655e-05 \n",
      "iter: 5  value: 12779.37 mgc: 0.00054818 ustep: 0.002486555 \n",
      "iter: 6  value: 12779.37 mgc: 0.659185 ustep: 3.903533e-07 \n",
      "iter: 7  value: 12779.37 mgc: 0.6591839 ustep: 2.829696e-06 \n",
      "iter: 8  value: 12779.37 mgc: 0.6591763 ustep: 6.961557e-06 \n",
      "iter: 9  value: 12779.37 mgc: 0.0005700648 ustep: 0.0001712898 \n",
      "iter: 10  value: 12779.37 mgc: 0.0005696666 ustep: 0.01318646 \n",
      "iter: 11  value: 12779.37 mgc: 0.659187 ustep: 9.297945e-07 \n",
      "Not improving much - will try early exit...PD hess?: TRUE \n",
      "mgc: 0.0005431904 \n",
      "outer mgc:  916.5886 \n",
      "iter: 1  value: 12779.37 mgc: 0.6593532 ustep: 4.371736e-06 \n",
      "iter: 2  value: 12779.37 mgc: 0.6593415 ustep: 1.069654e-06 \n",
      "iter: 3  value: 12779.37 mgc: 0.6593386 ustep: 3.544355e-05 \n",
      "iter: 4  value: 12779.37 mgc: 0.6592432 ustep: 2.369655e-05 \n",
      "iter: 5  value: 12779.37 mgc: 0.00054818 ustep: 0.002486555 \n",
      "iter: 6  value: 12779.37 mgc: 0.659185 ustep: 3.903533e-07 \n",
      "iter: 7  value: 12779.37 mgc: 0.6591839 ustep: 2.829696e-06 \n",
      "iter: 8  value: 12779.37 mgc: 0.6591763 ustep: 6.961557e-06 \n",
      "iter: 9  value: 12779.37 mgc: 0.0005700648 ustep: 0.0001712898 \n",
      "iter: 10  value: 12779.37 mgc: 0.0005696666 ustep: 0.01318646 \n",
      "iter: 11  value: 12779.37 mgc: 0.659187 ustep: 9.297945e-07 \n",
      "Not improving much - will try early exit...PD hess?: TRUE \n",
      "mgc: 0.0005431904 \n",
      "outer mgc:  916.5886 \n",
      "iter: 1  value: 12779.89 mgc: 0.65703 ustep: 0.002237842 \n",
      "iter: 2  value: 12779.89 mgc: 0.6510092 ustep: 0.01206452 \n",
      "iter: 3  value: 12779.89 mgc: 0.04077368 ustep: 0.02868764 \n",
      "iter: 4  value: 12779.89 mgc: 0.03637126 ustep: 0.08864999 \n",
      "iter: 5  value: 12779.89 mgc: 0.02666768 ustep: 0.002756349 \n",
      "iter: 6  value: 12779.89 mgc: 0.0263627 ustep: 5.270876e-05 \n",
      "iter: 7  value: 12779.89 mgc: 0.02635687 ustep: 0.001844569 \n",
      "iter: 8  value: 12779.89 mgc: 0.02615439 ustep: 0.02175662 \n",
      "iter: 9  value: 12779.89 mgc: 0.02392333 ustep: 0.1475865 \n",
      "iter: 10  value: 12779.89 mgc: 0.6446513 ustep: 2.250871e-10 \n",
      "mgc: 0.01507637 \n",
      "outer mgc:  915.6513 \n",
      "iter: 1  value: 12778.86 mgc: 0.6616741 ustep: 0.0002799205 \n",
      "iter: 2  value: 12778.86 mgc: 0.66092 ustep: 0.01682915 \n",
      "iter: 3  value: 12778.86 mgc: 0.0436159 ustep: 0.06715581 \n",
      "iter: 4  value: 12778.86 mgc: 0.6256537 ustep: 3.568596e-08 \n",
      "iter: 5  value: 12778.86 mgc: 0.6256536 ustep: 5.638088e-07 \n",
      "iter: 6  value: 12778.86 mgc: 0.6256521 ustep: 4.15148e-07 \n",
      "iter: 7  value: 12778.86 mgc: 0.625651 ustep: 1.815526e-07 \n",
      "iter: 8  value: 12778.86 mgc: 0.6256505 ustep: 4.007659e-09 \n",
      "mgc: 0.6256505 \n",
      "outer mgc:  916.2952 \n",
      "[1] \"Drawing sample\"\n"
     ]
    }
   ],
   "source": [
    "smp <- ktools::sample_tmb(list(fit = fit, obj = obj), 1000, FALSE)"
   ]
  },
  {
   "cell_type": "code",
   "execution_count": 163,
   "metadata": {
    "vscode": {
     "languageId": "r"
    }
   },
   "outputs": [
    {
     "data": {
      "image/png": "[encoded data removed]",
      "text/plain": [
       "Plot with title “aai”"
      ]
     },
     "metadata": {
      "image/png": {
       "height": 420,
       "width": 420
      }
     },
     "output_type": "display_data"
    }
   ],
   "source": [
    "put(2, 2)\n",
    "for (i in 2:5) {\n",
    "    smp[, i] %>%\n",
    "        exp() %>%\n",
    "        hist(main = colnames(X)[i])\n",
    "}"
   ]
  },
  {
   "cell_type": "code",
   "execution_count": 27,
   "metadata": {
    "vscode": {
     "languageId": "r"
    }
   },
   "outputs": [
    {
     "name": "stdout",
     "output_type": "stream",
     "text": [
      "       DIC      WAIC1      WAIC2 \n",
      "  77224.04   74102.03 1089075.68 \n"
     ]
    }
   ],
   "source": [
    "tmb_ICs(smp, 'll', looic = F) %>% print()"
   ]
  },
  {
   "cell_type": "code",
   "execution_count": 54,
   "metadata": {
    "vscode": {
     "languageId": "r"
    }
   },
   "outputs": [],
   "source": [
    "#automatic document conversion to markdown and then to word\n",
    " #first convert the ipython notebook paper.ipynb to markdown\n",
    " system(\"cd code && jupyter nbconvert --to latex --template ~/ipybib.tplx --no-input tmb_works.ipynb\")\n",
    " #next convert markdown to ms word\n",
    " \n",
    "conversion <- paste0(\n",
    "    'cd code &&',\n",
    "    'pandoc -s tmb_works.md -t docx -o tmb_works.docx',\n",
    "    ' --filter pandoc-citeproc',\n",
    "    ' --bibliography=\"/Users/knguyen/Documents/zotero_biblatex.bib\"',\n",
    "    ' --csl=\"apa.csl\"'\n",
    " )\n",
    "\n",
    "system(conversion)\n"
   ]
  }
 ],
 "metadata": {
  "kernelspec": {
   "display_name": "R",
   "language": "R",
   "name": "ir"
  },
  "language_info": {
   "codemirror_mode": "r",
   "file_extension": ".r",
   "mimetype": "text/x-r-source",
   "name": "R",
   "pygments_lexer": "r",
   "version": "4.1.3"
  }
 },
 "nbformat": 4,
 "nbformat_minor": 4
}
